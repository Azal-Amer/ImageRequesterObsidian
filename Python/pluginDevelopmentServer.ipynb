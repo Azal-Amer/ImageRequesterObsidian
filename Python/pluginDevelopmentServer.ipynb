{
 "cells": [
  {
   "cell_type": "code",
   "execution_count": 95,
   "metadata": {},
   "outputs": [],
   "source": [
    "\n",
    "from flask import Flask, request, jsonify, send_from_directory\n",
    "import os"
   ]
  },
  {
   "cell_type": "code",
   "execution_count": 96,
   "metadata": {},
   "outputs": [],
   "source": [
    "# go through\n",
    "IMAGE_DIRECTORY = \"./testImages\"\n",
    "\n",
    "image_files = os.listdir(IMAGE_DIRECTORY)\n",
    "image_urls = [f\"http://localhost:8000/testImages/{filename}\" for filename in image_files]\n",
    "if 'http://localhost:8000/testImages/.DS_Store' in image_urls:\n",
    "        image_urls.remove('http://localhost:8000/testImages/.DS_Store')\n",
    "captions = ['Expected value diagram','Cute areeba photo','weird friend graph thing','younger areeba photo']\n",
    "imageCaptionDatabase = {}\n",
    "for i in range(len(image_urls)):\n",
    "        package = {}\n",
    "        package['url'] = image_urls[i]\n",
    "        package['caption'] = captions[i]\n",
    "        imageCaptionDatabase[i] = package\n",
    "\n",
    "imageCaptionDatabase\n",
    "# save the imageCaptionDatabase to a json file\n",
    "import json\n"
   ]
  },
  {
   "cell_type": "code",
   "execution_count": 97,
   "metadata": {},
   "outputs": [],
   "source": [
    "# load the imageCaptionDatabase from the json file\n",
    "with open('imageCaptionDatabase.json', 'r') as f:\n",
    "    imageCaptionDatabase = json.load(f)\n",
    "    "
   ]
  },
  {
   "cell_type": "code",
   "execution_count": 7,
   "metadata": {},
   "outputs": [
    {
     "name": "stdout",
     "output_type": "stream",
     "text": [
      "QWP: 30 \n",
      "HWP: -10\n"
     ]
    }
   ],
   "source": [
    "def angleFixer(H = 0,Q = 0):\n",
    "    if(H>45):\n",
    "        H_o = 90-2*(H-45)\n",
    "    if(Q>90):\n",
    "        Q_o = Q-90\n",
    "        H_o = Q_o-H_o\n",
    "\n",
    "    print('QWP:',Q_o,'\\nHWP:',H_o)\n",
    "angleFixer(Q=120,H=70)"
   ]
  },
  {
   "cell_type": "markdown",
   "metadata": {},
   "source": [
    "# Telegram"
   ]
  },
  {
   "cell_type": "code",
   "execution_count": null,
   "metadata": {},
   "outputs": [],
   "source": [
    "from dotenv import load_dotenv\n",
    "load_dotenv()\n",
    "\n",
    "# Access the API key\n",
    "bot_token = os.getenv('TELEGRAM-KEY')\n",
    "\n",
    "# we need to make a basic tele"
   ]
  },
  {
   "cell_type": "code",
   "execution_count": 128,
   "metadata": {},
   "outputs": [
    {
     "name": "stdout",
     "output_type": "stream",
     "text": [
      "Webhook set successfully!\n"
     ]
    }
   ],
   "source": [
    "import requests\n",
    "\n",
    "def set_webhook(bot_token, webhook_url):\n",
    "    url = f'https://api.telegram.org/bot{bot_token}/setWebhook'\n",
    "    payload = {\n",
    "        'url': webhook_url\n",
    "    }\n",
    "    response = requests.post(url, json=payload)\n",
    "    \n",
    "    if response.status_code == 200:\n",
    "        print('Webhook set successfully!')\n",
    "    else:\n",
    "        print('Failed to set webhook.')\n",
    "        print('Error:', response.text)\n",
    "\n",
    "\n",
    "webhook_url = 'https://75ec-128-62-18-75.ngrok-free.app'\n",
    "# this needs us to use ngrok, note that we need to find a way to keep this constant, \n",
    "# or push it to my domain url as a subaddress\n",
    "\n",
    "set_webhook(bot_token, webhook_url+'/telegram-webhook')"
   ]
  },
  {
   "cell_type": "code",
   "execution_count": 129,
   "metadata": {},
   "outputs": [
    {
     "name": "stdout",
     "output_type": "stream",
     "text": [
      "Current Webhook Info:\n",
      "{'url': 'https://75ec-128-62-18-75.ngrok-free.app/telegram-webhook', 'has_custom_certificate': False, 'pending_update_count': 8, 'max_connections': 40, 'ip_address': '18.158.249.75'}\n"
     ]
    }
   ],
   "source": [
    "import requests\n",
    "\n",
    "def get_webhook_info(bot_token):\n",
    "    base_url = f\"https://api.telegram.org/bot{bot_token}/\"\n",
    "    endpoint = \"getWebhookInfo\"\n",
    "    \n",
    "    response = requests.get(base_url + endpoint)\n",
    "    \n",
    "    if response.status_code == 200:\n",
    "        webhook_info = response.json()\n",
    "        return webhook_info['result']\n",
    "    else:\n",
    "        return f\"Error: {response.status_code} - {response.text}\"\n",
    "\n",
    "# Replace 'YOUR_BOT_TOKEN' with your actual bot token\n",
    "\n",
    "webhook_info = get_webhook_info(bot_token)\n",
    "print(\"Current Webhook Info:\")\n",
    "print(webhook_info)"
   ]
  },
  {
   "cell_type": "code",
   "execution_count": 140,
   "metadata": {},
   "outputs": [],
   "source": [
    "from io import BytesIO\n",
    "from PIL import Image\n",
    "SAVE_DIRECTORY = \"./images\"\n",
    "BASE_URL = f\"https://api.telegram.org/bot{bot_token}/\"\n",
    "if not os.path.exists(SAVE_DIRECTORY):\n",
    "    os.makedirs(SAVE_DIRECTORY)\n",
    "\n",
    "def get_file_path(file_id):\n",
    "    url = f\"{BASE_URL}getFile\"\n",
    "    response = requests.get(url, params={\"file_id\": file_id})\n",
    "    return response.json()[\"result\"][\"file_path\"]\n",
    "\n",
    "def download_file(file_path):\n",
    "    url = f\"https://api.telegram.org/file/bot{bot_token}/{file_path}\"\n",
    "    response = requests.get(url)\n",
    "    return BytesIO(response.content)\n",
    "\n",
    "def process_image(image_data):\n",
    "    # Example processing: resize image\n",
    "    return image_data\n",
    "def databaseAdder(file_id,caption,url):\n",
    "    # open the file\n",
    "    with open('imageCaptionDatabase.json', 'r') as f:\n",
    "        imageCaptionDatabase = json.load(f)\n",
    "    imageCaptionDatabase[len(imageCaptionDatabase)] = {'url':url,'caption':caption,'file_id':file_id}\n",
    "    with open('imageCaptionDatabase.json', 'w') as f:\n",
    "        json.dump(imageCaptionDatabase, f)\n",
    "        \n",
    "def renumber_dict_keys(data, n):\n",
    "    # Convert string keys to integers for sorting\n",
    "    sorted_keys = sorted(map(int, data.keys()))\n",
    "    \n",
    "    # Remove the first n items\n",
    "    keys_to_remove = sorted_keys[:n]\n",
    "    for key in keys_to_remove:\n",
    "        del data[str(key)]\n",
    "    \n",
    "    # Create a new dictionary with renumbered keys\n",
    "    new_data = {}\n",
    "    for i, key in enumerate(sorted_keys[n:]):\n",
    "        new_key = str(i)\n",
    "        new_data[new_key] = data[str(key)]\n",
    "    \n",
    "    return new_data"
   ]
  },
  {
   "cell_type": "code",
   "execution_count": 142,
   "metadata": {},
   "outputs": [
    {
     "name": "stdout",
     "output_type": "stream",
     "text": [
      "Starting the Flask app\n",
      "bot token: 65579...mrW8k\n",
      " * Serving Flask app '__main__'\n",
      " * Debug mode: off\n"
     ]
    },
    {
     "name": "stderr",
     "output_type": "stream",
     "text": [
      "\u001b[31m\u001b[1mWARNING: This is a development server. Do not use it in a production deployment. Use a production WSGI server instead.\u001b[0m\n",
      " * Running on http://127.0.0.1:8000\n",
      "\u001b[33mPress CTRL+C to quit\u001b[0m\n"
     ]
    },
    {
     "name": "stdout",
     "output_type": "stream",
     "text": [
      "error 'photo'\n",
      "No image found in the message\n",
      "message_text: No image or caption was sent\n"
     ]
    },
    {
     "name": "stderr",
     "output_type": "stream",
     "text": [
      "127.0.0.1 - - [07/Jul/2024 21:09:33] \"POST /telegram-webhook HTTP/1.1\" 200 -\n"
     ]
    },
    {
     "name": "stdout",
     "output_type": "stream",
     "text": [
      "error 'photo'\n",
      "No image found in the message\n",
      "message_text: 0 images and captions were deleted.\n"
     ]
    },
    {
     "name": "stderr",
     "output_type": "stream",
     "text": [
      "127.0.0.1 - - [07/Jul/2024 21:09:37] \"POST /telegram-webhook HTTP/1.1\" 200 -\n"
     ]
    },
    {
     "name": "stdout",
     "output_type": "stream",
     "text": [
      "{'caption': 'Keys', 'file_id': 'AgACAgEAAxkBAANoZotKbNSwPkmrD7KJBR_P6ifTL14AAiSvMRuB_FlENdDqAAH71_uKAQADAgADeQADNQQ'}\n"
     ]
    },
    {
     "name": "stderr",
     "output_type": "stream",
     "text": [
      "127.0.0.1 - - [07/Jul/2024 21:09:49] \"POST /telegram-webhook HTTP/1.1\" 200 -\n"
     ]
    },
    {
     "name": "stdout",
     "output_type": "stream",
     "text": [
      "{'caption': 'More things', 'file_id': 'AgACAgEAAxkBAANpZotKcfbrwMA__IsMEmHTEs32ee4AAiWvMRuB_FlEdgixfR0jfPQBAAMCAAN5AAM1BA'}\n"
     ]
    },
    {
     "name": "stderr",
     "output_type": "stream",
     "text": [
      "127.0.0.1 - - [07/Jul/2024 21:09:55] \"POST /telegram-webhook HTTP/1.1\" 200 -\n"
     ]
    },
    {
     "name": "stdout",
     "output_type": "stream",
     "text": [
      "{'caption': 'Last thing', 'file_id': 'AgACAgEAAxkBAANqZotKfyYO4kDGGH27qLjMrDmil94AAiavMRuB_FlE7K5QfFwbLawBAAMCAAN5AAM1BA'}\n"
     ]
    },
    {
     "name": "stderr",
     "output_type": "stream",
     "text": [
      "127.0.0.1 - - [07/Jul/2024 21:10:09] \"POST /telegram-webhook HTTP/1.1\" 200 -\n",
      "127.0.0.1 - - [07/Jul/2024 21:10:21] \"OPTIONS /controller HTTP/1.1\" 200 -\n",
      "127.0.0.1 - - [07/Jul/2024 21:10:21] \"POST /controller HTTP/1.1\" 200 -\n",
      "127.0.0.1 - - [07/Jul/2024 21:10:21] \"GET /images/AgACAgEAAxkBAANoZotKbNSwPkmrD7KJBR_P6ifTL14AAiSvMRuB_FlENdDqAAH71_uKAQADAgADeQADNQQ.jpg HTTP/1.1\" 200 -\n",
      "127.0.0.1 - - [07/Jul/2024 21:10:21] \"GET /images/AgACAgEAAxkBAANpZotKcfbrwMA__IsMEmHTEs32ee4AAiWvMRuB_FlEdgixfR0jfPQBAAMCAAN5AAM1BA.jpg HTTP/1.1\" 200 -\n",
      "127.0.0.1 - - [07/Jul/2024 21:10:22] \"OPTIONS /confirmation HTTP/1.1\" 200 -\n",
      "127.0.0.1 - - [07/Jul/2024 21:10:22] \"POST /confirmation HTTP/1.1\" 200 -\n",
      "127.0.0.1 - - [07/Jul/2024 21:10:27] \"OPTIONS /controller HTTP/1.1\" 200 -\n",
      "127.0.0.1 - - [07/Jul/2024 21:10:27] \"POST /controller HTTP/1.1\" 200 -\n",
      "127.0.0.1 - - [07/Jul/2024 21:10:27] \"GET /images/AgACAgEAAxkBAANqZotKfyYO4kDGGH27qLjMrDmil94AAiavMRuB_FlE7K5QfFwbLawBAAMCAAN5AAM1BA.jpg HTTP/1.1\" 200 -\n",
      "127.0.0.1 - - [07/Jul/2024 21:10:28] \"OPTIONS /confirmation HTTP/1.1\" 200 -\n",
      "127.0.0.1 - - [07/Jul/2024 21:10:28] \"POST /confirmation HTTP/1.1\" 200 -\n",
      "127.0.0.1 - - [07/Jul/2024 21:10:37] \"OPTIONS /controller HTTP/1.1\" 200 -\n",
      "127.0.0.1 - - [07/Jul/2024 21:10:37] \"POST /controller HTTP/1.1\" 200 -\n"
     ]
    },
    {
     "name": "stdout",
     "output_type": "stream",
     "text": [
      "{'caption': 'Spacetime diagram', 'file_id': 'AgACAgEAAxkBAANrZotLNE5mWyR4TSO5pJS_5fLqZx8AAievMRuB_FlEmA3jayxQqUkBAAMCAAN5AAM1BA'}\n"
     ]
    },
    {
     "name": "stderr",
     "output_type": "stream",
     "text": [
      "127.0.0.1 - - [07/Jul/2024 21:13:10] \"POST /telegram-webhook HTTP/1.1\" 200 -\n"
     ]
    },
    {
     "name": "stdout",
     "output_type": "stream",
     "text": [
      "{'caption': 'Klein bottle irl', 'file_id': 'AgACAgEAAxkBAANsZotLQm358c2bTE2iXSZGvisIqxkAAiivMRuB_FlEQl46xOVRNe8BAAMCAAN5AAM1BA'}\n"
     ]
    },
    {
     "name": "stderr",
     "output_type": "stream",
     "text": [
      "127.0.0.1 - - [07/Jul/2024 21:13:24] \"POST /telegram-webhook HTTP/1.1\" 200 -\n",
      "127.0.0.1 - - [07/Jul/2024 21:13:25] \"OPTIONS /controller HTTP/1.1\" 200 -\n",
      "127.0.0.1 - - [07/Jul/2024 21:13:25] \"POST /controller HTTP/1.1\" 200 -\n",
      "127.0.0.1 - - [07/Jul/2024 21:13:25] \"GET /images/AgACAgEAAxkBAANsZotLQm358c2bTE2iXSZGvisIqxkAAiivMRuB_FlEQl46xOVRNe8BAAMCAAN5AAM1BA.jpg HTTP/1.1\" 200 -\n",
      "127.0.0.1 - - [07/Jul/2024 21:13:25] \"GET /images/AgACAgEAAxkBAANrZotLNE5mWyR4TSO5pJS_5fLqZx8AAievMRuB_FlEmA3jayxQqUkBAAMCAAN5AAM1BA.jpg HTTP/1.1\" 200 -\n",
      "127.0.0.1 - - [07/Jul/2024 21:13:25] \"OPTIONS /confirmation HTTP/1.1\" 200 -\n",
      "127.0.0.1 - - [07/Jul/2024 21:13:25] \"POST /confirmation HTTP/1.1\" 200 -\n"
     ]
    }
   ],
   "source": [
    "from flask_cors import CORS\n",
    "\n",
    "app = Flask(__name__)\n",
    "CORS(app)\n",
    "\n",
    "\n",
    "IMAGE_DIRECTORY = \"./images\"\n",
    "\n",
    "@app.route('/telegram-webhook', methods=['POST'])\n",
    "# load the imageCaptionDatabase from the json file\n",
    "\n",
    "def webhook():\n",
    "    # Get the input data from the request\n",
    "    input_data = request.json\n",
    "\n",
    "    # Extract the relevant information from the input data\n",
    "    \n",
    "    try:\n",
    "        file = input_data['message']['photo'][-1] # Get the largest photo\n",
    "        file_id = file['file_id']  \n",
    "        caption = ''\n",
    "        try:\n",
    "            caption = input_data['message']['caption']\n",
    "        except Exception as e:\n",
    "            print('error',e)\n",
    "        print({'caption':caption,'file_id':file_id})\n",
    "        file_path = get_file_path(file_id)\n",
    "        # at this point, we need to add it to our imageCaptionDatabase. The database goes 'url':url,'caption':caption, 'file_id':file_id. each time we get a new image, we add it as the next index in the database\n",
    "        databaseAdder(file_id,caption,webhook_url+SAVE_DIRECTORY[1:]+'/'+file_id+'.jpg')\n",
    "        image_data = Image.open(download_file(file_path))\n",
    "        \n",
    "        \n",
    "        # processed_image = process_image(image_data)\n",
    "        \n",
    "        # Save the processed image\n",
    "        save_path = os.path.join(SAVE_DIRECTORY, f\"{file_id}.jpg\")\n",
    "        image_data.save(save_path)\n",
    "    except Exception as e:\n",
    "        print('error',e)\n",
    "        print('No image found in the message')\n",
    "        messange_text = input_data['message']['text']\n",
    "\n",
    "        if(messange_text.lower() == 'wipe'):\n",
    "            with open('imageCaptionDatabase.json', 'w') as f:\n",
    "                json.dump({}, f)\n",
    "            # delete all the images in the images folder\n",
    "            for filename in os.listdir(SAVE_DIRECTORY):\n",
    "                file_path = os.path.join(SAVE_DIRECTORY, filename)\n",
    "                os.remove(file_path)\n",
    "            with open('imageCaptionDatabase.json', 'r') as f:\n",
    "                imageCaptionDatabase = json.load(f)\n",
    "            response = f'{len(imageCaptionDatabase)} images and captions were deleted.'\n",
    "\n",
    "        \n",
    "        elif(messange_text.lower() == 'status'):\n",
    "            with open('imageCaptionDatabase.json', 'r') as f:\n",
    "                imageCaptionDatabase = json.load(f)\n",
    "            response = f\"Number of images: {len(imageCaptionDatabase)}\"\n",
    "        else:\n",
    "            response = 'No image or caption was sent'\n",
    "\n",
    "        chat_id = input_data['message']['chat']['id']\n",
    "        result = response\n",
    "        # TODO we should add a \"wipe\" command to the bot, and a \"status\" command to the bot as well\n",
    "        print(f\"message_text: {response}\")\n",
    "\n",
    "        # Send the result back to Telegram\n",
    "        send_message(chat_id, result)\n",
    "\n",
    "\n",
    "\n",
    "    return 'OK'\n",
    "def send_message(chat_id, text):\n",
    "    # Send a message back to Telegram using the sendMessage method\n",
    "    url = f'https://api.telegram.org/bot{bot_token}/sendMessage'\n",
    "    payload = {\n",
    "        'chat_id': chat_id,\n",
    "        'text': text\n",
    "    }\n",
    "    requests.post(url, json=payload)\n",
    "\n",
    "\n",
    "\n",
    "\n",
    "@app.route('/', methods=['GET'])\n",
    "def serve_index():\n",
    "    return send_from_directory('.', 'index.html')\n",
    "\n",
    "@app.route('/controller', methods=['POST'])\n",
    "# on this controller route, we will take a request which contains the number of images requested, so that the user only gets the number of images they want\n",
    "# then earlier we constructed our imageDatabase which now includes captions, so we will return the imageDatabase to the user\n",
    "\n",
    "def handle_request():\n",
    "    # the request should contain the number of images requested\n",
    "    data = request.json\n",
    "    num_images = data['numImages']\n",
    "    # remove .DS_Store file from list of images\n",
    "    responsePackage = {}\n",
    "    with open('imageCaptionDatabase.json', 'r') as f:\n",
    "        imageCaptionDatabase = json.load(f)\n",
    "\n",
    "    if(num_images > len(imageCaptionDatabase)):\n",
    "        num_images = len(imageCaptionDatabase)\n",
    "    # this makes it so we can only accept the number of images we have to give\n",
    "    for i in range(num_images):\n",
    "        responsePackage[i] = imageCaptionDatabase[str(i)]\n",
    "    \n",
    "\n",
    "    response_data = {\n",
    "        'success': True,\n",
    "        'message': 'Image URLs retrieved successfully',\n",
    "        'imageUrls': imageCaptionDatabase,\n",
    "        'numImages': num_images\n",
    "    }\n",
    "\n",
    "    return jsonify(response_data)\n",
    "\n",
    "\n",
    "@app.route('/images/<path:filename>', methods=['GET'])\n",
    "def serve_image(filename):\n",
    "    return send_from_directory(IMAGE_DIRECTORY, filename)\n",
    "\n",
    "\n",
    "@app.route('/confirmation',methods = ['POST'])\n",
    "def conformationAndDeletion():\n",
    "    data = request.json['imageIDs']\n",
    "    # data is just a list of the fileID's that we need to delete\n",
    "    # we should delete the image from the images folder\n",
    "    for i in range(len(data)):\n",
    "        save_path = os.path.join(SAVE_DIRECTORY, f\"{data[i]}.jpg\")\n",
    "        os.remove(save_path)\n",
    "    # we should also delete the image from the imageCaptionDatabase\n",
    "    with open('imageCaptionDatabase.json', 'r') as f:\n",
    "        imageCaptionDatabase = json.load(f)\n",
    "    with open('imageCaptionDatabase.json', 'w') as f:\n",
    "        json.dump(renumber_dict_keys(imageCaptionDatabase,len(data)), f)\n",
    "    \n",
    "    # find the index in the database that has the fileID that we need to delete\n",
    "    \n",
    "    # upon reflection, while this is implicit, the only images that get served are the ones at the top, not the back. So if I want I can just delete the first n entries in the database and renumber\n",
    "\n",
    "    \n",
    "\n",
    "    return jsonify({'success':True,'message':'Image deleted successfully'})\n",
    "\n",
    "if __name__ == '__main__':\n",
    "    print('Starting the Flask app')\n",
    "    print(f\"bot token: {bot_token[:5]}...{bot_token[-5:]}\")\n",
    "    app.run(port=8000)\n"
   ]
  },
  {
   "cell_type": "markdown",
   "metadata": {},
   "source": [
    "# Overall Connector\n"
   ]
  },
  {
   "cell_type": "code",
   "execution_count": null,
   "metadata": {},
   "outputs": [
    {
     "name": "stdout",
     "output_type": "stream",
     "text": [
      " * Serving Flask app '__main__'\n",
      " * Debug mode: off\n"
     ]
    },
    {
     "name": "stderr",
     "output_type": "stream",
     "text": [
      "\u001b[31m\u001b[1mWARNING: This is a development server. Do not use it in a production deployment. Use a production WSGI server instead.\u001b[0m\n",
      " * Running on http://127.0.0.1:8000\n",
      "\u001b[33mPress CTRL+C to quit\u001b[0m\n",
      "127.0.0.1 - - [07/Jul/2024 18:56:16] \"OPTIONS /controller HTTP/1.1\" 200 -\n",
      "127.0.0.1 - - [07/Jul/2024 18:56:16] \"POST /controller HTTP/1.1\" 200 -\n",
      "127.0.0.1 - - [07/Jul/2024 18:56:16] \"\u001b[36mGET /testImages/PXL_20240705_220718077.jpg HTTP/1.1\u001b[0m\" 304 -\n",
      "127.0.0.1 - - [07/Jul/2024 18:56:16] \"\u001b[36mGET /testImages/IMG-20240701-WA0005.jpg HTTP/1.1\u001b[0m\" 304 -\n",
      "127.0.0.1 - - [07/Jul/2024 18:59:01] \"OPTIONS /controller HTTP/1.1\" 200 -\n",
      "127.0.0.1 - - [07/Jul/2024 18:59:01] \"POST /controller HTTP/1.1\" 200 -\n",
      "127.0.0.1 - - [07/Jul/2024 18:59:01] \"\u001b[36mGET /testImages/PXL_20240705_220718077.jpg HTTP/1.1\u001b[0m\" 304 -\n",
      "127.0.0.1 - - [07/Jul/2024 18:59:01] \"\u001b[36mGET /testImages/IMG-20240701-WA0005.jpg HTTP/1.1\u001b[0m\" 304 -\n",
      "127.0.0.1 - - [07/Jul/2024 18:59:42] \"OPTIONS /controller HTTP/1.1\" 200 -\n",
      "127.0.0.1 - - [07/Jul/2024 18:59:42] \"POST /controller HTTP/1.1\" 200 -\n",
      "127.0.0.1 - - [07/Jul/2024 18:59:42] \"\u001b[36mGET /testImages/PXL_20240705_220718077.jpg HTTP/1.1\u001b[0m\" 304 -\n",
      "127.0.0.1 - - [07/Jul/2024 18:59:42] \"\u001b[36mGET /testImages/IMG-20240701-WA0005.jpg HTTP/1.1\u001b[0m\" 304 -\n",
      "127.0.0.1 - - [07/Jul/2024 19:02:41] \"OPTIONS /controller HTTP/1.1\" 200 -\n",
      "127.0.0.1 - - [07/Jul/2024 19:02:41] \"POST /controller HTTP/1.1\" 200 -\n",
      "127.0.0.1 - - [07/Jul/2024 19:02:41] \"\u001b[36mGET /testImages/PXL_20240705_220718077.jpg HTTP/1.1\u001b[0m\" 304 -\n",
      "127.0.0.1 - - [07/Jul/2024 19:02:41] \"\u001b[36mGET /testImages/IMG-20240701-WA0005.jpg HTTP/1.1\u001b[0m\" 304 -\n"
     ]
    }
   ],
   "source": [
    "from flask_cors import CORS\n",
    "\n",
    "app = Flask(__name__)\n",
    "CORS(app)\n",
    "\n",
    "\n",
    "IMAGE_DIRECTORY = \"./testImages\"\n",
    "\n",
    "@app.route('/', methods=['GET'])\n",
    "def serve_index():\n",
    "    return send_from_directory('.', 'index.html')\n",
    "\n",
    "@app.route('/controller', methods=['POST'])\n",
    "# on this controller route, we will take a request which contains the number of images requested, so that the user only gets the number of images they want\n",
    "# then earlier we constructed our imageDatabase which now includes captions, so we will return the imageDatabase to the user\n",
    "\n",
    "def handle_request():\n",
    "    # the request should contain the number of images requested\n",
    "    data = request.json\n",
    "    num_images = data['numImages']\n",
    "    # remove .DS_Store file from list of images\n",
    "    responsePackage = {}\n",
    "\n",
    "    if(num_images > len(imageCaptionDatabase)):\n",
    "        num_images = len(imageCaptionDatabase)\n",
    "    # this makes it so we can only accept the number of images we have to give\n",
    "    for i in range(num_images):\n",
    "        responsePackage[i] = imageCaptionDatabase[i]\n",
    "    \n",
    "\n",
    "    response_data = {\n",
    "        'success': True,\n",
    "        'message': 'Image URLs retrieved successfully',\n",
    "        'imageUrls': imageCaptionDatabase,\n",
    "        'numImages': num_images\n",
    "    }\n",
    "\n",
    "    return jsonify(response_data)\n",
    "\n",
    "@app.route('/testImages/<path:filename>', methods=['GET'])\n",
    "def serve_image(filename):\n",
    "    return send_from_directory(IMAGE_DIRECTORY, filename)\n",
    "\n",
    "if __name__ == '__main__':\n",
    "    app.run(port=8000)"
   ]
  }
 ],
 "metadata": {
  "kernelspec": {
   "display_name": "Python 3",
   "language": "python",
   "name": "python3"
  },
  "language_info": {
   "codemirror_mode": {
    "name": "ipython",
    "version": 3
   },
   "file_extension": ".py",
   "mimetype": "text/x-python",
   "name": "python",
   "nbconvert_exporter": "python",
   "pygments_lexer": "ipython3",
   "version": "3.10.0"
  }
 },
 "nbformat": 4,
 "nbformat_minor": 2
}
